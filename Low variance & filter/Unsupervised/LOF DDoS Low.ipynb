{
 "cells": [
  {
   "cell_type": "code",
   "execution_count": 1,
   "metadata": {},
   "outputs": [],
   "source": [
    "import pandas as pd\n",
    "import numpy as np\n",
    "from sklearn.preprocessing import StandardScaler\n",
    "from sklearn.model_selection import train_test_split\n",
    "from sklearn.metrics import accuracy_score, roc_curve, auc, precision_score, recall_score\n",
    "import matplotlib.pyplot as plt\n",
    "from sklearn.metrics import confusion_matrix\n",
    "from sklearn.neighbors import LocalOutlierFactor\n",
    "from numpy import arange\n",
    "from sklearn.decomposition import PCA\n",
    "from sklearn.metrics import classification_report"
   ]
  },
  {
   "cell_type": "code",
   "execution_count": 2,
   "metadata": {},
   "outputs": [],
   "source": [
    "benign_df = pd.read_csv(r'D:\\Kuliah\\ProyekAkhir\\New Data\\resample\\Benign_resample.csv')\n",
    "ddos_df = pd.read_csv(r'D:\\Kuliah\\ProyekAkhir\\New Data\\resample\\DDoS_resample_300.csv')\n",
    "benign_test_df = pd.read_csv(r'D:\\Kuliah\\ProyekAkhir\\New Data\\resample\\Benign_resample_4000.csv')"
   ]
  },
  {
   "cell_type": "code",
   "execution_count": 3,
   "metadata": {},
   "outputs": [],
   "source": [
    "df = pd.concat([benign_df, benign_test_df, ddos_df], ignore_index=True)"
   ]
  },
  {
   "cell_type": "code",
   "execution_count": 4,
   "metadata": {},
   "outputs": [],
   "source": [
    "df = df[[' Fwd Packet Length Max', ' Fwd Packet Length Mean', ' Fwd Packet Length Std', 'Bwd Packet Length Max', ' Bwd Packet Length Min', ' Bwd Packet Length Mean', ' Bwd Packet Length Std', ' Flow Packets/s', 'Bwd IAT Total', 'Fwd PSH Flags', 'Fwd Packets/s', ' Max Packet Length', ' Packet Length Mean', ' Packet Length Std', ' Packet Length Variance', ' RST Flag Count', ' ACK Flag Count', ' URG Flag Count', ' CWE Flag Count', ' Down/Up Ratio', ' Average Packet Size', ' Avg Fwd Segment Size', ' Avg Bwd Segment Size', ' Init_Win_bytes_backward', ' min_seg_size_forward', 'Idle Mean', ' Idle Min', ' Label']]"
   ]
  },
  {
   "cell_type": "code",
   "execution_count": 5,
   "metadata": {},
   "outputs": [],
   "source": [
    "X = df.drop([' Label'], axis=1)\n",
    "y = df[' Label']"
   ]
  },
  {
   "cell_type": "code",
   "execution_count": 7,
   "metadata": {},
   "outputs": [
    {
     "name": "stdout",
     "output_type": "stream",
     "text": [
      "Neighbour : 408\n",
      "contamination : 0.1\n",
      "---Classification Report---\n",
      "0.88215446905097850.98016495126439920.8981886321049344\n",
      "Neighbour : 408\n",
      "contamination : 0.2\n",
      "---Classification Report---\n",
      "0.78320348444880680.97830087409906450.7969394128669581\n",
      "Neighbour : 408\n",
      "contamination : 0.30000000000000004\n",
      "---Classification Report---\n",
      "0.68388442426844980.97572517746034530.6954403497813866\n",
      "Neighbour : 408\n",
      "contamination : 0.4\n",
      "---Classification Report---\n",
      "0.58389055886141950.97167978734280750.5936289818863211\n"
     ]
    }
   ],
   "source": [
    "for a in arange(0.1, 0.5, 0.1):\n",
    "    clf = LocalOutlierFactor(n_neighbors=408, novelty=False, contamination=a)\n",
    "    y_pred_test = clf.fit_predict(X)\n",
    "    print('Neighbour : ' + str(408))\n",
    "    print('contamination : ' + str(a))\n",
    "    print('---Classification Report---')\n",
    "#     print(classification_report(y, y_pred_test))\n",
    "    print(str(accuracy_score(y, y_pred_test)) + str(precision_score(y, y_pred_test)) + str(recall_score(y, y_pred_test)))\n",
    "    "
   ]
  }
 ],
 "metadata": {
  "kernelspec": {
   "display_name": "Python 3",
   "language": "python",
   "name": "python3"
  },
  "language_info": {
   "codemirror_mode": {
    "name": "ipython",
    "version": 3
   },
   "file_extension": ".py",
   "mimetype": "text/x-python",
   "name": "python",
   "nbconvert_exporter": "python",
   "pygments_lexer": "ipython3",
   "version": "3.8.3"
  }
 },
 "nbformat": 4,
 "nbformat_minor": 4
}
