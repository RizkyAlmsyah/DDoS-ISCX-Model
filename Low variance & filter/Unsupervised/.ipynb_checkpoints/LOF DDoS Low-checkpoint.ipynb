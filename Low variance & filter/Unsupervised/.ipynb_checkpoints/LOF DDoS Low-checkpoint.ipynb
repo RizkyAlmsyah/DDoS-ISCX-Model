{
 "cells": [
  {
   "cell_type": "code",
   "execution_count": 1,
   "metadata": {},
   "outputs": [],
   "source": [
    "import pandas as pd\n",
    "import numpy as np\n",
    "from sklearn.preprocessing import StandardScaler\n",
    "from sklearn.model_selection import train_test_split\n",
    "from sklearn.metrics import accuracy_score, roc_curve, auc, precision_score, recall_score\n",
    "import matplotlib.pyplot as plt\n",
    "from sklearn.metrics import confusion_matrix\n",
    "from sklearn.neighbors import LocalOutlierFactor\n",
    "from numpy import arange\n",
    "from sklearn.decomposition import PCA\n",
    "from sklearn.metrics import classification_report"
   ]
  },
  {
   "cell_type": "code",
   "execution_count": 7,
   "metadata": {},
   "outputs": [],
   "source": [
    "benign_df = pd.read_csv(r'D:\\Kuliah\\ProyekAkhir\\New Data\\resample\\Benign_resample.csv')\n",
    "ddos_df = pd.read_csv(r'D:\\Kuliah\\ProyekAkhir\\New Data\\resample\\DDoS_resample_300.csv')\n",
    "benign_test_df = pd.read_csv(r'D:\\Kuliah\\ProyekAkhir\\New Data\\resample\\Benign_resample_4000.csv')"
   ]
  },
  {
   "cell_type": "code",
   "execution_count": 8,
   "metadata": {},
   "outputs": [],
   "source": [
    "df = pd.concat([benign_df, benign_test_df, ddos_df], ignore_index=True)"
   ]
  },
  {
   "cell_type": "code",
   "execution_count": 9,
   "metadata": {},
   "outputs": [],
   "source": [
    "df = df[[' Fwd Packet Length Max', ' Fwd Packet Length Mean', ' Fwd Packet Length Std', 'Bwd Packet Length Max', ' Bwd Packet Length Min', ' Bwd Packet Length Mean', ' Bwd Packet Length Std', ' Flow Packets/s', 'Bwd IAT Total', 'Fwd PSH Flags', 'Fwd Packets/s', ' Max Packet Length', ' Packet Length Mean', ' Packet Length Std', ' Packet Length Variance', ' RST Flag Count', ' ACK Flag Count', ' URG Flag Count', ' CWE Flag Count', ' Down/Up Ratio', ' Average Packet Size', ' Avg Fwd Segment Size', ' Avg Bwd Segment Size', ' Init_Win_bytes_backward', ' min_seg_size_forward', 'Idle Mean', ' Idle Min', ' Label']]"
   ]
  },
  {
   "cell_type": "code",
   "execution_count": 10,
   "metadata": {},
   "outputs": [],
   "source": [
    "X = df.drop([' Label'], axis=1)\n",
    "y = df[' Label']"
   ]
  },
  {
   "cell_type": "code",
   "execution_count": 11,
   "metadata": {},
   "outputs": [
    {
     "name": "stdout",
     "output_type": "stream",
     "text": [
      "Neighbour : 408\n",
      "contamination : 0.1\n",
      "---Classification Report---\n",
      "              precision    recall  f1-score   support\n",
      "\n",
      "          -1       0.00      0.00      0.00       291\n",
      "           1       0.98      0.90      0.94     16010\n",
      "\n",
      "    accuracy                           0.88     16301\n",
      "   macro avg       0.49      0.45      0.47     16301\n",
      "weighted avg       0.96      0.88      0.92     16301\n",
      "\n",
      "Neighbour : 408\n",
      "contamination : 0.2\n",
      "---Classification Report---\n",
      "              precision    recall  f1-score   support\n",
      "\n",
      "          -1       0.00      0.03      0.00       291\n",
      "           1       0.98      0.80      0.88     16010\n",
      "\n",
      "    accuracy                           0.78     16301\n",
      "   macro avg       0.49      0.41      0.44     16301\n",
      "weighted avg       0.96      0.78      0.86     16301\n",
      "\n",
      "Neighbour : 408\n",
      "contamination : 0.30000000000000004\n",
      "---Classification Report---\n",
      "              precision    recall  f1-score   support\n",
      "\n",
      "          -1       0.00      0.05      0.01       291\n",
      "           1       0.98      0.70      0.81     16010\n",
      "\n",
      "    accuracy                           0.68     16301\n",
      "   macro avg       0.49      0.37      0.41     16301\n",
      "weighted avg       0.96      0.68      0.80     16301\n",
      "\n",
      "Neighbour : 408\n",
      "contamination : 0.4\n",
      "---Classification Report---\n",
      "              precision    recall  f1-score   support\n",
      "\n",
      "          -1       0.00      0.05      0.00       291\n",
      "           1       0.97      0.59      0.74     16010\n",
      "\n",
      "    accuracy                           0.58     16301\n",
      "   macro avg       0.49      0.32      0.37     16301\n",
      "weighted avg       0.95      0.58      0.72     16301\n",
      "\n"
     ]
    }
   ],
   "source": [
    "for a in arange(0.1, 0.5, 0.1):\n",
    "    clf = LocalOutlierFactor(n_neighbors=408, novelty=False, contamination=a)\n",
    "    y_pred_test = clf.fit_predict(X)\n",
    "    print('Neighbour : ' + str(408))\n",
    "    print('contamination : ' + str(a))\n",
    "    print('---Classification Report---')\n",
    "    print(classification_report(y, y_pred_test))"
   ]
  }
 ],
 "metadata": {
  "kernelspec": {
   "display_name": "Python 3",
   "language": "python",
   "name": "python3"
  },
  "language_info": {
   "codemirror_mode": {
    "name": "ipython",
    "version": 3
   },
   "file_extension": ".py",
   "mimetype": "text/x-python",
   "name": "python",
   "nbconvert_exporter": "python",
   "pygments_lexer": "ipython3",
   "version": "3.8.3"
  }
 },
 "nbformat": 4,
 "nbformat_minor": 4
}
